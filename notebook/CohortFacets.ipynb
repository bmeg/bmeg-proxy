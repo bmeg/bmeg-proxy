{
 "cells": [
  {
   "cell_type": "code",
   "execution_count": 32,
   "metadata": {
    "collapsed": false
   },
   "outputs": [],
   "source": [
    "import ophion\n",
    "O = ophion.Ophion(\"http://bmeg.io\")"
   ]
  },
  {
   "cell_type": "markdown",
   "metadata": {},
   "source": [
    "# List Projects"
   ]
  },
  {
   "cell_type": "code",
   "execution_count": 33,
   "metadata": {
    "collapsed": false
   },
   "outputs": [
    {
     "name": "stdout",
     "output_type": "stream",
     "text": [
      "[u'individualCohort:TCGA-LUSC', u'individualCohort:TCGA-ESCA', u'individualCohort:TCGA-KIRC', u'individualCohort:TCGA-CESC', u'individualCohort:TCGA-SKCM', u'individualCohort:TCGA-BLCA', u'individualCohort:TCGA-UCS', u'individualCohort:TCGA-STAD', u'individualCohort:TCGA-LAML', u'individualCohort:TCGA-TGCT', u'individualCohort:TCGA-HNSC', u'individualCohort:TCGA-PAAD', u'individualCohort:TCGA-READ', u'individualCohort:TCGA-UCEC', u'individualCohort:TCGA-MESO', u'individualCohort:TCGA-LUAD', u'individualCohort:TCGA-CHOL', u'individualCohort:TCGA-LIHC', u'individualCohort:TCGA-KIRP', u'individualCohort:TCGA-THCA', u'individualCohort:TCGA-OV', u'individualCohort:TCGA-KICH', u'individualCohort:TCGA-THYM', u'individualCohort:TCGA-UVM', u'individualCohort:TCGA-BRCA', u'individualCohort:TCGA-COAD', u'individualCohort:TCGA-LGG', u'individualCohort:TCGA-ACC', u'individualCohort:TCGA-PRAD', u'individualCohort:TCGA-GBM', u'individualCohort:TCGA-PCPG', u'individualCohort:TCGA-DLBC', u'individualCohort:TCGA-SARC']\n"
     ]
    }
   ],
   "source": [
    "print O.query().has(\"gid\",\"type:IndividualCohort\").outgoing(\"hasInstance\").values([\"gid\"]).execute()"
   ]
  },
  {
   "cell_type": "markdown",
   "metadata": {},
   "source": [
    "# Select by project"
   ]
  },
  {
   "cell_type": "code",
   "execution_count": 64,
   "metadata": {
    "collapsed": false
   },
   "outputs": [],
   "source": [
    "COHORT=\"individualCohort:TCGA-PCPG\"\n",
    "samples = O.query().has(\"gid\", COHORT).outgoing(\"hasMember\").incoming(\"biosampleOfIndividual\").values([\"gid\"]).execute()"
   ]
  },
  {
   "cell_type": "markdown",
   "metadata": {},
   "source": [
    "# List Gender Count"
   ]
  },
  {
   "cell_type": "code",
   "execution_count": 35,
   "metadata": {
    "collapsed": false
   },
   "outputs": [
    {
     "name": "stdout",
     "output_type": "stream",
     "text": [
      "[{u'[\"FEMALE\"]': 5749, u'[\"MALE\"]': 5287}]\n"
     ]
    }
   ],
   "source": [
    "print O.query().has(\"gid\",\"type:Individual\").outgoing(\"hasInstance\").groupCount(\"info.gender\").execute()"
   ]
  },
  {
   "cell_type": "markdown",
   "metadata": {},
   "source": [
    "# Select By Gender"
   ]
  },
  {
   "cell_type": "code",
   "execution_count": 36,
   "metadata": {
    "collapsed": false
   },
   "outputs": [
    {
     "data": {
      "text/plain": [
       "[202]"
      ]
     },
     "execution_count": 36,
     "metadata": {},
     "output_type": "execute_result"
    }
   ],
   "source": [
    "GENDER='[\"FEMALE\"]'\n",
    "O.query().has(\"gid\", O.within(samples)).outgoing(\"biosampleOfIndividual\").has(\"info.gender\", GENDER).count().execute()"
   ]
  },
  {
   "cell_type": "markdown",
   "metadata": {},
   "source": [
    "# Select by mutation Status"
   ]
  },
  {
   "cell_type": "code",
   "execution_count": 66,
   "metadata": {
    "collapsed": false
   },
   "outputs": [
    {
     "data": {
      "text/plain": [
       "[u'biosample:TCGA-PCPG:TCGA-QR-A6GY-01A']"
      ]
     },
     "execution_count": 66,
     "metadata": {},
     "output_type": "execute_result"
    }
   ],
   "source": [
    "GENE=\"TP53\"\n",
    "O.query().has(\"gid\", O.within(samples)).mark(\"sample\").incoming(\"variantInBiosample\").outgoing(\"variantInGene\").has(\"symbol\", GENE).select(\"sample\").dedup().values(\"gid\").execute()"
   ]
  },
  {
   "cell_type": "markdown",
   "metadata": {},
   "source": [
    "# Select by CNA Event"
   ]
  },
  {
   "cell_type": "code",
   "execution_count": 67,
   "metadata": {
    "collapsed": false
   },
   "outputs": [],
   "source": [
    "#No CNA data loaded for TCGA yet\n",
    "COHORT=\"cohort:CCLE\"\n",
    "samples = O.query().has(\"gid\", COHORT).outgoing(\"hasSample\").values([\"gid\"]).execute()"
   ]
  },
  {
   "cell_type": "code",
   "execution_count": 69,
   "metadata": {
    "collapsed": false
   },
   "outputs": [
    {
     "name": "stderr",
     "output_type": "stream",
     "text": [
      "Traceback (most recent call last):\n",
      "  File \"ophion.py\", line 75, in execute\n",
      "    response = urllib2.urlopen(request)\n",
      "  File \"/usr/local/Cellar/python/2.7.13/Frameworks/Python.framework/Versions/2.7/lib/python2.7/urllib2.py\", line 154, in urlopen\n",
      "    return opener.open(url, data, timeout)\n",
      "  File \"/usr/local/Cellar/python/2.7.13/Frameworks/Python.framework/Versions/2.7/lib/python2.7/urllib2.py\", line 435, in open\n",
      "    response = meth(req, response)\n",
      "  File \"/usr/local/Cellar/python/2.7.13/Frameworks/Python.framework/Versions/2.7/lib/python2.7/urllib2.py\", line 548, in http_response\n",
      "    'http', request, response, code, msg, hdrs)\n",
      "  File \"/usr/local/Cellar/python/2.7.13/Frameworks/Python.framework/Versions/2.7/lib/python2.7/urllib2.py\", line 473, in error\n",
      "    return self._call_chain(*args)\n",
      "  File \"/usr/local/Cellar/python/2.7.13/Frameworks/Python.framework/Versions/2.7/lib/python2.7/urllib2.py\", line 407, in _call_chain\n",
      "    result = func(*args)\n",
      "  File \"/usr/local/Cellar/python/2.7.13/Frameworks/Python.framework/Versions/2.7/lib/python2.7/urllib2.py\", line 556, in http_error_default\n",
      "    raise HTTPError(req.get_full_url(), code, msg, hdrs, fp)\n",
      "HTTPError: HTTP Error 504: Connection Timed Out\n"
     ]
    },
    {
     "data": {
      "text/plain": [
       "{'error': {'exception': urllib2.HTTPError(), 'system': urllib2.HTTPError}}"
      ]
     },
     "execution_count": 69,
     "metadata": {},
     "output_type": "execute_result"
    }
   ],
   "source": [
    "GENE=\"MDM2\"\n",
    "LEVEL=1.5\n",
    "O.query().has(\"gid\", O.within(samples)).mark(\"sample\").incoming(\"segmentOfSample\").has(\"value\", O.gte(LEVEL)).outgoing(\"segmentInGene\").has(\"symbol\", GENE).select(\"sample\").dedup().values(\"gid\").execute()"
   ]
  },
  {
   "cell_type": "code",
   "execution_count": null,
   "metadata": {
    "collapsed": true
   },
   "outputs": [],
   "source": []
  }
 ],
 "metadata": {
  "kernelspec": {
   "display_name": "Python 2",
   "language": "python",
   "name": "python2"
  },
  "language_info": {
   "codemirror_mode": {
    "name": "ipython",
    "version": 2
   },
   "file_extension": ".py",
   "mimetype": "text/x-python",
   "name": "python",
   "nbconvert_exporter": "python",
   "pygments_lexer": "ipython2",
   "version": "2.7.13"
  }
 },
 "nbformat": 4,
 "nbformat_minor": 2
}
